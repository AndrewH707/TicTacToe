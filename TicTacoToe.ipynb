{
  "nbformat": 4,
  "nbformat_minor": 0,
  "metadata": {
    "colab": {
      "name": "TicTacoToe.ipynb",
      "provenance": [],
      "authorship_tag": "ABX9TyMQVCxQC1AeAbHFSYXVMwGC",
      "include_colab_link": true
    },
    "kernelspec": {
      "name": "python3",
      "display_name": "Python 3"
    },
    "language_info": {
      "name": "python"
    }
  },
  "cells": [
    {
      "cell_type": "markdown",
      "metadata": {
        "id": "view-in-github",
        "colab_type": "text"
      },
      "source": [
        "<a href=\"https://colab.research.google.com/github/AndrewH707/TicTacToe/blob/main/TicTacoToe.ipynb\" target=\"_parent\"><img src=\"https://colab.research.google.com/assets/colab-badge.svg\" alt=\"Open In Colab\"/></a>"
      ]
    },
    {
      "cell_type": "code",
      "metadata": {
        "id": "il8TPu-3UHSY"
      },
      "source": [
        "import numpy as np\n",
        "import collections\n",
        "from matplotlib import pyplot as plt\n",
        "\n",
        "#future possible updates: check subdiagonal and have player take turns\n",
        "\n",
        "class tictacotoe():\n",
        "\n",
        "  def __init__(self, size):\n",
        "    self.size = size\n",
        "    self.board = np.zeros((self.size, self.size))\n",
        "    self.terminal = False #game is not in the terminal(finished) state by default \n",
        "    self.empty = collections.defaultdict(lambda: True) #location at [i, j] is\n",
        "                                                      # True by default, meaning\n",
        "                                                      #it's empty\n",
        "    return \n",
        "\n",
        "  def reset(self):\n",
        "    self.board = np.zeros((self.size, self.size))\n",
        "    self.empty = collections.defaultdict(lambda: True)\n",
        "    self.terminal = False\n",
        "    return\n",
        "\n",
        "  def display(self):\n",
        "    c = plt.imshow(self.board, cmap = 'binary', interpolation= 'nearest')\n",
        "    plt.colorbar(c)\n",
        "    plt.title('Current Board')\n",
        "    plt.show()\n",
        "    return\n",
        "\n",
        "  def win(self): # check if there are 3 in a row\n",
        "\n",
        "    size = self.size\n",
        "    type_win = -1 #default value, it means no win found\n",
        "\n",
        "    neg_diag = []\n",
        "\n",
        "    #check negative diagonal\n",
        "    for i in range(size-1, 0, -1):\n",
        "      neg_diag.append(self.board[i, i])\n",
        "    result = np.all(neg_diag == neg_diag[0])\n",
        "    if ((result != False) & (neg_diag[0] != 0)):\n",
        "      self.terminal = True\n",
        "      type_win = 0 \n",
        "    \n",
        "\n",
        "    #check positive diagoal\n",
        "    pos_diag = [self.board[i][len(self.board)-1-i] for i in range(len(self.board))]\n",
        "    result = np.all(pos_diag == pos_diag[0])\n",
        "    if ((result != False) & (pos_diag[0] != 0)):\n",
        "      self.terminal = True\n",
        "      type_win = 1 \n",
        "    \n",
        "  \n",
        "    #check if there's a win across a column\n",
        "    for j in range(0, size, 1): #iterate through columns\n",
        "      entries = []\n",
        "      for i in range(0, size, 1): # append elements from all rows\n",
        "        entries.append(self.board[i, j])\n",
        "      result = np.all(entries == entries[0]) #check if all elements are equal\n",
        "      if ((result != False) & (entries[0] != 0)): # if we win, exit\n",
        "        self.terminal = True\n",
        "        type_win = 2\n",
        "        column_index = j\n",
        "        break\n",
        "\n",
        "    # check if there's a win across a row \n",
        "    for i in range(0, size, 1): #iterate through rows\n",
        "      entries = []\n",
        "      for j in range(0, size, 1): # append elements from each column along row i\n",
        "        entries.append(self.board[i, j])\n",
        "      result = np.all(entries == entries[0]) # check if all elements are equal\n",
        "      if ((result != False) & (entries[0] != 0)): # if we win, exit\n",
        "        self.terminal = True\n",
        "        type_win = 3\n",
        "        row_index = i\n",
        "        break\n",
        "\n",
        "    if (type_win == -1):\n",
        "      print(\"continue...\")\n",
        "    elif (type_win == 0):\n",
        "      print(\"Win along the negative diagonal\")\n",
        "    elif (type_win == 1):\n",
        "      print(\"Win along the positive diagonal\")\n",
        "    elif (type_win == 2):\n",
        "      print(\"WIN! column: \", column_index)\n",
        "    else:\n",
        "      print(\"WIN! row: \", row_index)\n",
        "\n",
        "    return \n",
        "\n",
        "  def move(self, action, location): # action will be 0 or 1, location will be \n",
        "                                    # tuple with coordinates (i, j) matrix notation\n",
        "    \n",
        "    i = location[0]\n",
        "    j = location[1]\n",
        "\n",
        "    #check if location is available\n",
        "\n",
        "    if (self.empty[(i, j)] != False):\n",
        "      # assign value to action for plotting reasons\n",
        "      if (action == 0):\n",
        "        value = -1\n",
        "      else:\n",
        "        value = 1\n",
        "\n",
        "      self.board[i, j] = value\n",
        "      self.empty[(i, j)] = False\n",
        "      return\n",
        "    else: \n",
        "      return\n",
        "  \n",
        "\n",
        "\n",
        "  \n",
        "    \n"
      ],
      "execution_count": null,
      "outputs": []
    },
    {
      "cell_type": "code",
      "metadata": {
        "colab": {
          "base_uri": "https://localhost:8080/",
          "height": 281
        },
        "id": "wRoyxtnFVSUi",
        "outputId": "93336f1d-a259-4274-e480-7b7e3e99d94f"
      },
      "source": [
        "game = tictacotoe(3)\n",
        "game.display()\n",
        "game.move(0, (0, 0))"
      ],
      "execution_count": null,
      "outputs": [
        {
          "output_type": "display_data",
          "data": {
            "image/png": "[encoded data removed]",
            "text/plain": [
              "<Figure size 432x288 with 2 Axes>"
            ]
          },
          "metadata": {
            "tags": [],
            "needs_background": "light"
          }
        }
      ]
    },
    {
      "cell_type": "code",
      "metadata": {
        "colab": {
          "base_uri": "https://localhost:8080/",
          "height": 298
        },
        "id": "V7Y0rtZgbFu6",
        "outputId": "debe1482-1b12-4582-b9ae-ca17670a0856"
      },
      "source": [
        "game.move(0, (0, 0)) # test output for win on negative diagonal \n",
        "game.move(0, (1, 1))\n",
        "game.move(0, (2, 2))\n",
        "game.display()\n",
        "game.win()"
      ],
      "execution_count": null,
      "outputs": [
        {
          "output_type": "display_data",
          "data": {
            "image/png": "[encoded data removed]",
            "text/plain": [
              "<Figure size 432x288 with 2 Axes>"
            ]
          },
          "metadata": {
            "tags": [],
            "needs_background": "light"
          }
        },
        {
          "output_type": "stream",
          "text": [
            "Win along the negative diagonal\n"
          ],
          "name": "stdout"
        }
      ]
    },
    {
      "cell_type": "code",
      "metadata": {
        "colab": {
          "base_uri": "https://localhost:8080/",
          "height": 281
        },
        "id": "xPGbpOQ-LmwU",
        "outputId": "5efce167-1489-4829-9ca2-fc9d9f8659e4"
      },
      "source": [
        "# lets test our reset function...\n",
        "game.reset()\n",
        "game.display()"
      ],
      "execution_count": null,
      "outputs": [
        {
          "output_type": "display_data",
          "data": {
            "image/png": "[encoded data removed]",
            "text/plain": [
              "<Figure size 432x288 with 2 Axes>"
            ]
          },
          "metadata": {
            "tags": [],
            "needs_background": "light"
          }
        }
      ]
    },
    {
      "cell_type": "code",
      "metadata": {
        "colab": {
          "base_uri": "https://localhost:8080/",
          "height": 298
        },
        "id": "lVSdEsedLs4c",
        "outputId": "da507f60-b5da-4968-9e0d-2dd579d880c8"
      },
      "source": [
        "# lets win on the positive diagonal\n",
        "game.move(0, (2, 0)) # action 0 at row i = 2 and column j = 0\n",
        "game.move(0, (1, 1)) # action 0 at row i = 1 and column i = 1\n",
        "game.move(0, (0, 2))\n",
        "game.win() # test output for win on positive\n",
        "game.display()"
      ],
      "execution_count": null,
      "outputs": [
        {
          "output_type": "stream",
          "text": [
            "Win along the positive diagonal\n"
          ],
          "name": "stdout"
        },
        {
          "output_type": "display_data",
          "data": {
            "image/png": "[encoded data removed]",
            "text/plain": [
              "<Figure size 432x288 with 2 Axes>"
            ]
          },
          "metadata": {
            "tags": [],
            "needs_background": "light"
          }
        }
      ]
    },
    {
      "cell_type": "code",
      "metadata": {
        "colab": {
          "base_uri": "https://localhost:8080/",
          "height": 298
        },
        "id": "D8iU1ex-SBxY",
        "outputId": "5135c929-c28d-44b4-d3ce-df5ffe6aa4cf"
      },
      "source": [
        "#reset and check win in middle row\n",
        "game.reset()\n",
        "game.move(1, (1, 0)) #action 1, location [i=1, j= 0]\n",
        "game.move(1, (1, 1))\n",
        "game.move(1, (1, 2))\n",
        "game.win()\n",
        "game.display()"
      ],
      "execution_count": null,
      "outputs": [
        {
          "output_type": "stream",
          "text": [
            "WIN! row:  1\n"
          ],
          "name": "stdout"
        },
        {
          "output_type": "display_data",
          "data": {
            "image/png": "[encoded data removed]",
            "text/plain": [
              "<Figure size 432x288 with 2 Axes>"
            ]
          },
          "metadata": {
            "tags": [],
            "needs_background": "light"
          }
        }
      ]
    },
    {
      "cell_type": "code",
      "metadata": {
        "colab": {
          "base_uri": "https://localhost:8080/",
          "height": 298
        },
        "id": "bGOo1A45aeQ7",
        "outputId": "5d4c7a44-e696-4fbf-859c-be558847648b"
      },
      "source": [
        "# reset and check win along last column on the right\n",
        "game.reset()\n",
        "game.move(1, (0, 2)) \n",
        "game.move(1, (1, 2))\n",
        "game.move(1, (2, 2))\n",
        "game.win()\n",
        "game.display()"
      ],
      "execution_count": null,
      "outputs": [
        {
          "output_type": "stream",
          "text": [
            "WIN! column:  2\n"
          ],
          "name": "stdout"
        },
        {
          "output_type": "display_data",
          "data": {
            "image/png": "[encoded data removed]",
            "text/plain": [
              "<Figure size 432x288 with 2 Axes>"
            ]
          },
          "metadata": {
            "tags": [],
            "needs_background": "light"
          }
        }
      ]
    }
  ]
}